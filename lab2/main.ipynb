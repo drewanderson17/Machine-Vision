{
 "cells": [
  {
   "cell_type": "code",
   "execution_count": null,
   "metadata": {},
   "outputs": [],
   "source": [
    "\n",
    "import cv2\n",
    "import numpy as np\n",
    "import matplotlib.pyplot as plt\n",
    "\n",
    "import sys\n",
    "\n",
    "\n",
    "img = cv2.imread('baboon.jpg')\n",
    "img1 = cv2.imread('SAflag.jpg')\n",
    "x = 272144 #max number of recursions image length*width\n",
    "sys.setrecursionlimit(x)\n",
    "window=\"k-means Clustering\"\n",
    "trackbar_name= \"k_val\"\n",
    "k_val=2\n",
    "\n",
    "\n",
    "print(img[10][10])\n",
    "  "
   ]
  },
  {
   "cell_type": "code",
   "execution_count": null,
   "metadata": {},
   "outputs": [],
   "source": [
    "\n",
    "\n",
    "def callback(var):\n",
    "    global k_val\n",
    "    \n",
    "    k_val = cv2.getTrackbarPos(\"Threshold\", \"baboon\")\n",
    "    \n",
    "    \n",
    "def random_centers(img):\n",
    "    \n",
    "    row_array=np.random.randint(img.shape[0], size=(k_val, 1))\n",
    "    column_array=np.random.randint(img.shape[1], size=(k_val, 1))\n",
    "    \n",
    "    pixels_arr = np.column_stack((row_array, column_array))\n",
    "    print(pixels_arr)\n",
    "   \n",
    "random_centers(img)\n",
    "\n",
    "\n"
   ]
  },
  {
   "cell_type": "code",
   "execution_count": null,
   "metadata": {},
   "outputs": [],
   "source": [
    "cv2.namedWindow(window)\n",
    "\n",
    "cv2.imshow(window, img1)\n",
    "cv2.createTrackbar(trackbar_name, window, 5, 20, callback)\n",
    "key = cv2.waitKey(0)\n",
    "cv2.destroyAllWindows()\n",
    "random_centers(img1)\n",
    "# when I change the value of "
   ]
  },
  {
   "cell_type": "code",
   "execution_count": null,
   "metadata": {},
   "outputs": [],
   "source": [
    "# Callback Function for Trackbar (but do not any work)\n",
    "def nothing(*arg):\n",
    "    pass\n",
    "\n",
    "\n",
    "def imgshow(Image, WindowName):\n",
    " # Generate trackbar Window Name\n",
    " TrackbarName = WindowName + \"Trackbar\"\n",
    "\n",
    " # Make Window and Trackbar\n",
    " cv2.namedWindow(WindowName)\n",
    " cv2.createTrackbar(TrackbarName, WindowName, 5, 20, nothing)\n",
    "\n",
    "\n",
    "\n",
    " # Loop for get trackbar pos and process it\n",
    " while True:\n",
    "  # Get position in trackbar\n",
    "  TrackbarPos = cv2.getTrackbarPos(TrackbarName, WindowName)\n",
    "  # Apply threshold\n",
    "  \n",
    "  # Show in window\n",
    "  cv2.imshow(WindowName, Image)\n",
    "\n",
    "  random_centers(Image,TrackbarPos)\n",
    "  # If you press \"ESC\", it will return value\n",
    "  ch = cv2.waitKey(5)\n",
    "  if ch == 27:\n",
    "      break\n",
    "\n",
    " cv2.destroyAllWindows()\n",
    " return TrackbarPos\n",
    "imgshow(img,'test')"
   ]
  },
  {
   "cell_type": "code",
   "execution_count": null,
   "metadata": {},
   "outputs": [],
   "source": []
  },
  {
   "cell_type": "code",
   "execution_count": null,
   "metadata": {},
   "outputs": [],
   "source": []
  },
  {
   "cell_type": "code",
   "execution_count": null,
   "metadata": {},
   "outputs": [],
   "source": []
  }
 ],
 "metadata": {
  "kernelspec": {
   "display_name": "Python 3",
   "language": "python",
   "name": "python3"
  },
  "language_info": {
   "codemirror_mode": {
    "name": "ipython",
    "version": 3
   },
   "file_extension": ".py",
   "mimetype": "text/x-python",
   "name": "python",
   "nbconvert_exporter": "python",
   "pygments_lexer": "ipython3",
   "version": "3.8.3"
  }
 },
 "nbformat": 4,
 "nbformat_minor": 4
}
