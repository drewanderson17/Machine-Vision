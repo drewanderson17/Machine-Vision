{
 "cells": [
  {
   "cell_type": "code",
   "execution_count": 8,
   "metadata": {},
   "outputs": [],
   "source": [
    "import numpy as np\n",
    "import cv2\n",
    "import matplotlib. pyplot as plt\n",
    "\n",
    "lines = cv2.imread(\"lines.jpg\", 0)\n",
    "spiral = cv2.imread(\"spiral.jpg\", 0)\n",
    "\n",
    "\n",
    "\n",
    "def showImage(Img, window_name='image'):\n",
    "    cv2.imshow(window_name, Img)\n",
    "\n",
    "    cv2.waitKey(0)\n",
    "\n",
    "    # closing all open windows\n",
    "    cv2.destroyAllWindows()\n",
    "\n",
    "    \n"
   ]
  },
  {
   "cell_type": "markdown",
   "metadata": {},
   "source": [
    "1. General Edge Detection\n",
    "\n",
    "in the cell bellow includes\n",
    "1.1 steps smooth your image using the GaussianBlur(method)\n",
    "1.2 sobel edge Detection Mask\n",
    "1.3 \n",
    "\n",
    "an easier implementation would be to use \n",
    "img_dx = cv2.Sobel(img, cv2.CV_32F, 1, 0)\n",
    "img_dy = cv2.Sobel(img, cv2.CV_32F, 0, 1)\n"
   ]
  },
  {
   "cell_type": "code",
   "execution_count": 9,
   "metadata": {},
   "outputs": [
    {
     "name": "stdout",
     "output_type": "stream",
     "text": [
      "pass\n"
     ]
    }
   ],
   "source": [
    "# 1. General Edge Detection\n",
    "\n",
    "# 1.1 steps smooth your image using the GaussianBlur(method)\n",
    "def grayscale(image):\n",
    "    image=image.copy()\n",
    "    image = cv2.cvtColor(image, cv2.COLOR_BGR2GRAY)\n",
    "    return image\n",
    "def blur(image):\n",
    "    image=image.copy()\n",
    "    blur = cv2.GaussianBlur(image, (5, 5), 0)\n",
    "    return blur\n",
    "\n",
    "\n",
    "# 1.2 Define Orthogonal mask Sobel Method & 1.3  Get the x- and y- gradient Image\n",
    "def sobel(image):\n",
    "    sobelX = np.array([[-1, -2, -1], [0, 0, 0], [1, 2, 1]])  # G1 SobelX 3X3 mask\n",
    "\n",
    "    sobelY = np.array([[-1, 0, 1], [-2, 0, 2], [-1, 0, 1]])  # G1 SobelY 3x3 mask from PPt\n",
    "\n",
    "    resultX = cv2.filter2D((blur(image)), -1, sobelX)\n",
    "    resultY = cv2.filter2D((blur(image)), -1, sobelY)\n",
    "    return resultX, resultY\n",
    "    # showImage(resultX, \"Sobel Horizontal Image\")\n",
    "    # showImage(resultY, \"Sobel Vertical Image\")\n",
    "\n",
    "\n",
    "resultX, resultY = sobel(np.uint8(spiral))\n",
    "\n",
    "showImage(resultX, \"Sobel Horizontal Image\")\n",
    "showImage(resultY, \"Sobel Horizontal Image\")\n",
    "\n",
    "print(\"pass\")"
   ]
  },
  {
   "cell_type": "markdown",
   "metadata": {},
   "source": [
    "1.4 Gradient Magnitude G(i,j) = magnitude of x 1st derivative + magnitude of y 1st derivative\n"
   ]
  },
  {
   "cell_type": "code",
   "execution_count": 10,
   "metadata": {},
   "outputs": [
    {
     "name": "stdout",
     "output_type": "stream",
     "text": [
      "Pass\n"
     ]
    }
   ],
   "source": [
    "\n",
    "# 1.4 Gradient Magnitude G(i,j) = magnitude of x 1st derivative + magnitude of y 1st derivative\n",
    "\n",
    "def gradient(image):\n",
    "    image=image.copy()\n",
    "    \n",
    "    image=blur(image)\n",
    "    I_x, I_y = sobel(image)\n",
    "    \n",
    "\n",
    "    result = cv2.add(I_x, I_y)\n",
    "    \n",
    "\n",
    "    return result\n",
    "\n",
    "img = gradient(np.uint8(spiral))\n",
    "showImage(img, \"Gradient Magnitude\")\n",
    "\n",
    "\n",
    "\n",
    "print('Pass')"
   ]
  },
  {
   "cell_type": "markdown",
   "metadata": {},
   "source": [
    "General Edge Detection \n",
    "1.5  Threshold your gradient image by marking all pixels in 𝑰(𝑖,𝑗) as edges if 𝑮(𝑖,𝑗) > 𝝉 ."
   ]
  },
  {
   "cell_type": "code",
   "execution_count": 11,
   "metadata": {},
   "outputs": [],
   "source": [
    "#Tracbar for sobel \n",
    "\n",
    "img = spiral\n",
    "img = blur(img)\n",
    "\n",
    "thresh1 = 18\n",
    "cv2.namedWindow('Sobel')\n",
    "\n",
    "\n",
    "#image should be loaded in as grayscale and already blured\n",
    "def funcGradient(thres1 = 0):\n",
    "    threshold = cv2.getTrackbarPos(\"T\",\"Sobel\")\n",
    "    \n",
    "    I_x, I_y = sobel(spiral)\n",
    "\n",
    "    image = cv2.add(I_x, I_y) #to used cv2.add instead of  cv2.magnitude because dtype is unit8\n",
    "    ret, thresh1 = cv2.threshold(image, threshold, 255, cv2.THRESH_BINARY)\n",
    "    cv2.imshow('Sobel', thresh1)\n",
    "    return thresh1\n",
    "\n",
    "cv2.createTrackbar('T', 'Sobel', thresh1, 255, funcGradient)\n",
    "funcGradient(0)\n",
    "\n",
    "cv2.waitKey(0)\n",
    "\n",
    "cv2.destroyAllWindows()\n"
   ]
  },
  {
   "cell_type": "code",
   "execution_count": 12,
   "metadata": {},
   "outputs": [],
   "source": [
    "#2.1 Canny Edge Detection example for Spiral\n",
    "\n",
    "window = \"canny\"\n",
    "def funcCan(thresh1 = 0):\n",
    "    thresh1 = cv2.getTrackbarPos('thresh1', 'canny') \n",
    "    thresh2 = cv2.getTrackbarPos('thresh2', 'canny')\n",
    "    edge = cv2.Canny(img, thresh1, thresh2)  #creates the canny image\n",
    "    cv2.imshow('canny', edge)\n",
    "    return edge\n",
    "\n",
    "\n",
    "original = np.uint8(spiral) #redundant\n",
    "img = original.copy()\n",
    "img = blur(img)\n",
    "\n",
    "cv2.namedWindow('canny')\n",
    "\n",
    "thresh1 = 100\n",
    "thresh2 = 1\n",
    "cv2.createTrackbar('thresh1', 'canny', thresh1, 255, funcCan)\n",
    "cv2.createTrackbar('thresh2', 'canny', thresh2, 255, funcCan)\n",
    "funcCan(0)\n",
    "\n",
    "cv2.waitKey(0)\n",
    "\n",
    "cv2.destroyAllWindows()\n",
    "\n"
   ]
  },
  {
   "cell_type": "markdown",
   "metadata": {},
   "source": [
    "3. Comparison of General and Canny Edge Detectors\n",
    "\n",
    "the output of the code below is a graph coomparing both Edge detctors for the spiral staircase, \n",
    "Note it works it just takes really long to load"
   ]
  },
  {
   "cell_type": "code",
   "execution_count": 13,
   "metadata": {},
   "outputs": [
    {
     "data": {
      "image/png": "[encoded data removed]",
      "text/plain": [
       "<Figure size 432x288 with 1 Axes>"
      ]
     },
     "metadata": {
      "needs_background": "light"
     },
     "output_type": "display_data"
    }
   ],
   "source": [
    "#3  Compare Canny to Sobel\n",
    "height, width= spiral.shape[0],spiral.shape[0]\n",
    "#canny\n",
    "\n",
    "edge = cv2.Canny(blur(spiral), 100, 52)\n",
    "#Sobel \n",
    "\n",
    "\n",
    "\n",
    "\n",
    "def Comparison(threshold =50):\n",
    "    i=0\n",
    "    #for Canny let thresh1 =100 thresh2 =52\n",
    "    I_x, I_y = sobel(blur(spiral))\n",
    "    result = cv2.add(I_x, I_y)\n",
    "    ret, image = cv2.threshold(result, threshold, 255, cv2.THRESH_BINARY)\n",
    "    \n",
    "    for y in range(height): # loop through image pixels and increment counter if sobel and canny have same value\n",
    "        for x in range(width):\n",
    "            \n",
    "            if image[y,x]==edge[y,x]:#compare canny and Sobel\n",
    "                i+=1\n",
    "   \n",
    "    \n",
    "    return i/spiral.size\n",
    "\n",
    "Comparison(10)\n",
    "\n",
    "\n",
    "def Graphing():\n",
    "    y=[]\n",
    "    x=[]\n",
    "    for i in range(0,255):\n",
    "        x.append(Comparison(i))\n",
    "        y.append(i)\n",
    "    \n",
    "\n",
    "    plt.plot(x, y)\n",
    "    plt.title(\"Similarity Metric: General and Canny Edge over Thresholds\")\n",
    "    plt.show()\n",
    "Graphing()\n",
    "    \n",
    "    \n",
    "      \n"
   ]
  },
  {
   "cell_type": "markdown",
   "metadata": {},
   "source": [
    "I'm aware my graph is wrong I'm  not sure why, I should be getting a bell cure as\n",
    "there it is positional informaiton"
   ]
  }
 ],
 "metadata": {
  "kernelspec": {
   "display_name": "Python 3",
   "language": "python",
   "name": "python3"
  },
  "language_info": {
   "codemirror_mode": {
    "name": "ipython",
    "version": 3
   },
   "file_extension": ".py",
   "mimetype": "text/x-python",
   "name": "python",
   "nbconvert_exporter": "python",
   "pygments_lexer": "ipython3",
   "version": "3.8.3"
  }
 },
 "nbformat": 4,
 "nbformat_minor": 4
}
