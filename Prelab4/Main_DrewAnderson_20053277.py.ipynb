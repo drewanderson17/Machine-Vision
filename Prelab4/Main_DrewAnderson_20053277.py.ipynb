{
 "cells": [
  {
   "cell_type": "markdown",
   "metadata": {},
   "source": [
    "# 1.1 Sift Matching "
   ]
  },
  {
   "cell_type": "code",
   "execution_count": 28,
   "metadata": {},
   "outputs": [],
   "source": [
    "\n",
    "import cv2\n",
    "import numpy as np\n",
    "import matplotlib.pyplot as plt\n",
    "\n",
    "\n",
    "def showImage(Img, window_name='image'):\n",
    "    cv2.imshow(window_name, Img)\n",
    "    cv2.waitKey(0)\n",
    "    # closing all open windows\n",
    "    cv2.destroyAllWindows()\n",
    "    \n",
    "# 1 & 2 load in images and create instance of SIFT\n",
    "left = cv2.imread(\"backpack_left.png\", 0)\n",
    "right = cv2.imread(\"backpack_right.png\", 0)\n",
    "lena = cv2.imread(\"lena.png\", 0)\n",
    "\n",
    "sift = cv2.SIFT_create()\n",
    "\n"
   ]
  },
  {
   "cell_type": "code",
   "execution_count": 34,
   "metadata": {},
   "outputs": [],
   "source": [
    "# 3 & 4  Swift Matching generate image's key points and descriptors \n",
    "# Prints out the key_points in all images\n",
    "def key_points(img):\n",
    "\n",
    "    kp1, des1 = sift.detectAndCompute(img, None)\n",
    "    img_copy = cv2.drawKeypoints(img, kp1, None)\n",
    "    showImage(img_copy, \"Key Points\")\n",
    "\n",
    "key_points(left)\n",
    "key_points(right)\n",
    "key_points(lena)\n"
   ]
  },
  {
   "cell_type": "code",
   "execution_count": 30,
   "metadata": {},
   "outputs": [],
   "source": [
    "# 5 and 6 BFMatcher and drawMatchesknn \n",
    "# Prints out sift matchin \n",
    "def siftMatching(img1,img2):\n",
    "    kp1, des1 = sift.detectAndCompute(img1, None)\n",
    "    kp2, des2 = sift.detectAndCompute(img2, None)\n",
    "\n",
    "\n",
    "    img1_kp = cv2.drawKeypoints(img1, kp1, None)\n",
    "    img2_kp = cv2.drawKeypoints(img2, kp2, None)\n",
    "\n",
    "    bf = cv2.BFMatcher(2)\n",
    "    matches = bf.knnMatch(des1, des2, k=2)\n",
    "    #last parameter of drawMatchesKnn\n",
    "    result = cv2.drawMatchesKnn(img1, kp1, img2, kp2, matches, img1_kp )\n",
    "    showImage(result)\n",
    "    \n",
    "siftMatching(lena,lena)\n",
    "siftMatching(left,right)\n",
    "\n"
   ]
  },
  {
   "cell_type": "code",
   "execution_count": null,
   "metadata": {},
   "outputs": [],
   "source": []
  },
  {
   "cell_type": "markdown",
   "metadata": {},
   "source": [
    "# 1.2 Low's ratio test"
   ]
  },
  {
   "cell_type": "code",
   "execution_count": 35,
   "metadata": {},
   "outputs": [],
   "source": [
    "#1.2 Low's ratio test\n",
    "def lowes(img1, img2):\n",
    "    kp1, des1 = sift.detectAndCompute(img1, None)\n",
    "    kp2, des2 = sift.detectAndCompute(img2, None)\n",
    "    bf = cv2.BFMatcher()\n",
    "    matches = bf.knnMatch(des1, des2, k=2)\n",
    "\n",
    "    good = []\n",
    "    for m, n in matches:\n",
    "       \n",
    "        if m.distance < 0.8 * n.distance: # ratio test\n",
    "            good.append([m])\n",
    "\n",
    "    img3 = cv2.drawMatchesKnn(img1, kp1, img2, kp2, good, None, flags=2)\n",
    "    \n",
    "    return  img3\n",
    "    \n",
    "\n",
    "\n",
    "img3 =lowes(left, right)\n",
    "showImage(img3, \"Lowes Ratio Backpack\") #shows Backpack\n",
    "img4 = lowes(lena, lena)\n",
    "showImage(img4, \"Lowes Ratio Lena\") #shows lena \n",
    "\n",
    "\n",
    "\n",
    "\n",
    "\n"
   ]
  },
  {
   "cell_type": "markdown",
   "metadata": {},
   "source": [
    "# 1.3 Histogram\n",
    "display your keypoint distances as histograms (one for lena and one for backpack images)\n",
    "x-axis is the distance between the descriptors, y- axis is the count of the histograms with that gistance\n"
   ]
  },
  {
   "cell_type": "code",
   "execution_count": 32,
   "metadata": {},
   "outputs": [
    {
     "data": {
      "image/png": "[encoded data removed]",
      "text/plain": [
       "<Figure size 432x288 with 1 Axes>"
      ]
     },
     "metadata": {
      "needs_background": "light"
     },
     "output_type": "display_data"
    }
   ],
   "source": [
    "# Histogram for BackpackPack\n",
    "\n",
    "kp1, des1 = sift.detectAndCompute(left, None)\n",
    "kp2, des2 = sift.detectAndCompute(right , None)\n",
    "bf = cv2.BFMatcher()\n",
    "matches = bf.knnMatch(des1, des2, k=2)\n",
    "all_matches = []\n",
    "good = []\n",
    "for m, n in matches:\n",
    "    all_matches.append(m.distance)\n",
    "    if m.distance < 0.8 * n.distance:\n",
    "        good.append(m.distance)\n",
    "        \n",
    "\n",
    "vals1, rng1 = np.histogram(all_matches, bins = range(400))\n",
    "plt.figure()\n",
    "plt.bar(rng[:-1], vals1, width = 1)\n",
    "vals2, rng2 = np.histogram(good, bins = range(400))\n",
    "plt.bar(rng[:-1], vals2, width = 1)\n",
    "\n",
    "\n",
    "plt.ylabel(\"Frequency\")\n",
    "plt.xlabel(\"Distance between D2,D1\")\n",
    "plt.title(\"1.3 Histogram\")\n",
    "plt.legend(('All Matches', \"Lowe's Matches\" ))\n",
    "plt.show()\n"
   ]
  },
  {
   "cell_type": "markdown",
   "metadata": {},
   "source": []
  },
  {
   "cell_type": "code",
   "execution_count": 33,
   "metadata": {},
   "outputs": [
    {
     "data": {
      "image/png": "[encoded data removed]",
      "text/plain": [
       "<Figure size 432x288 with 1 Axes>"
      ]
     },
     "metadata": {
      "needs_background": "light"
     },
     "output_type": "display_data"
    }
   ],
   "source": [
    "#Histogram for lena \n",
    "\n",
    "kp1, des1 = sift.detectAndCompute(lena, None)\n",
    "kp2, des2 = sift.detectAndCompute(lena , None)\n",
    "bf = cv2.BFMatcher()\n",
    "matches = bf.knnMatch(des1, des2, k=2)\n",
    "all_matches = []\n",
    "good = []\n",
    "for m, n in matches:\n",
    "    all_matches.append(m.distance)\n",
    "    if m.distance < 0.8 * n.distance:\n",
    "        good.append(m.distance)\n",
    "        \n",
    "\n",
    "vals1, rng1 = np.histogram(all_matches, bins = range(400))\n",
    "plt.figure()\n",
    "plt.bar(rng[:-1], vals1, width = 1)\n",
    "vals2, rng2 = np.histogram(good, bins = range(400))\n",
    "plt.bar(rng[:-1], vals2, width = 1)\n",
    "\n",
    "\n",
    "plt.ylabel(\"y axis\")\n",
    "plt.xlabel(\"x axis\")\n",
    "plt.title(\"Lena\")\n",
    "plt.legend(('All Matches', \"Lowe's Matches\" ))\n",
    "plt.show()"
   ]
  },
  {
   "cell_type": "markdown",
   "metadata": {},
   "source": [
    "# Conclusion\n",
    "Backpack Satio Image:\n",
    "It makes sense that lowe's matches is less significantly less than all of the matches.\n",
    "This is because lowe's picks the best corresponding match from every initially detected set.\n",
    "The Lowe's Ratio Test eliminates a number of invalid matches from the initial set.\n",
    "The algorithm filters keypoint matches. It Makes the Matches more Precise. The Distribution of the Histogram for Lowe's Matches  follows the same path as the all matches. The Histogram Distribution  of the two are very similar. \n",
    "Lena Stario image:\n",
    "In The Histogram for Lena, the Number of matches and Lowe's Matchs are the same because the input images are identical\n"
   ]
  },
  {
   "cell_type": "code",
   "execution_count": null,
   "metadata": {},
   "outputs": [],
   "source": []
  }
 ],
 "metadata": {
  "kernelspec": {
   "display_name": "Python 3",
   "language": "python",
   "name": "python3"
  },
  "language_info": {
   "codemirror_mode": {
    "name": "ipython",
    "version": 3
   },
   "file_extension": ".py",
   "mimetype": "text/x-python",
   "name": "python",
   "nbconvert_exporter": "python",
   "pygments_lexer": "ipython3",
   "version": "3.8.3"
  }
 },
 "nbformat": 4,
 "nbformat_minor": 4
}
