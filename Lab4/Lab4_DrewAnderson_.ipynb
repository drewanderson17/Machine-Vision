{
 "cells": [
  {
   "cell_type": "code",
   "execution_count": 51,
   "metadata": {},
   "outputs": [],
   "source": [
    "import cv2\n",
    "import numpy as np\n",
    "\n",
    "ref = cv2.imread(\"cereal.jpg\", 0)\n",
    "# 1.1 Matching\n",
    "sift = cv2.SIFT_create()\n",
    "\n",
    "def show(Img, window_name='image'):\n",
    "    cv2.namedWindow(window_name,cv2.WINDOW_NORMAL)\n",
    "    cv2.imshow(window_name, Img)\n",
    "    cv2.waitKey(0)\n",
    "    # closing all open windows\n",
    "    cv2.destroyAllWindows()\n",
    "    "
   ]
  },
  {
   "cell_type": "code",
   "execution_count": 52,
   "metadata": {},
   "outputs": [],
   "source": [
    "#1.1 Matching steps 1-6 function lowes return key points, descriptors and lowe's ratio matches\n",
    "\n",
    "\n",
    "def lowes(img1, img2):\n",
    "    kp1, des1 = sift.detectAndCompute(img1, None)\n",
    "    kp2, des2 = sift.detectAndCompute(img2, None)\n",
    "    bf = cv2.BFMatcher()\n",
    "    matches = bf.knnMatch(des1, des2, k=2)\n",
    "\n",
    "    good_matches = []\n",
    "    listA = []\n",
    "    for m, n in matches:\n",
    "\n",
    "        if m.distance < 0.8 * n.distance:  # ratio test\n",
    "            good_matches.append([m])\n",
    "            listA.append(m)\n",
    "\n",
    "    img3 = cv2.drawMatchesKnn(img1, kp1, img2, kp2, good_matches, None, flags=2)\n",
    "\n",
    "    return kp1, kp2, des1, des2, listA\n",
    "\n",
    "\n"
   ]
  },
  {
   "cell_type": "code",
   "execution_count": 53,
   "metadata": {},
   "outputs": [],
   "source": [
    "\n",
    "#1.2 Affine Transformation 1-8 rotate an image\n",
    "    \n",
    "\n",
    "# load in image grayscale\n",
    "ref = cv2.imread(\"cereal.jpg\", 0)\n",
    "# rotate image (default -25 degrees) and scale it default is set to 0.6)\n",
    "def rotate_image(image, rotation=25, scaling=0.6):\n",
    "    #TODO if not grayscale convert to grayscale\n",
    "    (h, w) = image.shape[:2]\n",
    "    image_center = ((w / 2), (h / 2))\n",
    "    rotation_matrix = cv2.getRotationMatrix2D(image_center, rotation, scaling)\n",
    "    rslt = cv2.warpAffine(image, rotation_matrix, image.shape[1::-1], flags=cv2.INTER_LINEAR)\n",
    "    return rslt\n",
    "\n",
    "\n",
    "img_rotated = rotate_image(ref)\n",
    "\n",
    "#displaly output of rotated image\n",
    "show(ref, \"Reference Image\")\n",
    "show(img_rotated, \"Rotated Image\")\n",
    "\n",
    "\n"
   ]
  },
  {
   "cell_type": "code",
   "execution_count": 54,
   "metadata": {},
   "outputs": [],
   "source": [
    "cereal = cv2.imread(\"cereal.jpg\")\n",
    "#accepts color image, \n",
    "def Affine_Transform(image):\n",
    "    \n",
    "    \n",
    "    gray = cv2.cvtColor(image, cv2.COLOR_BGR2GRAY)\n",
    "    img_rotated = rotate_image(gray)\n",
    "\n",
    "    # feature detection function\n",
    "    kp1, kp2, des1, des2, lowe_matches = lowes(ref, img_rotated)\n",
    "\n",
    "    # 4 format points\n",
    "\n",
    "    ref_pts = np.float32([kp1[m.queryIdx].pt for m in lowe_matches]).reshape(-1, 1, 2)\n",
    "\n",
    "    img_pts = np.float32([kp2[m.trainIdx].pt for m in lowe_matches]).reshape(-1, 1, 2)\n",
    "\n",
    "    # 5 retrieve Matrix\n",
    "    # cv2.estimateAffinePartial2D(from_pts, to_pts)[0]\n",
    "    transform = cv2.estimateAffinePartial2D(ref_pts, img_pts)[0]\n",
    "\n",
    "    # 6 modify reference image just loaded in colour image\n",
    "    modified_ref= image\n",
    "    #original colored image will be used as the modified reference image\n",
    "    modified_ref = cv2.warpAffine(modified_ref, transform, modified_ref.shape[1::-1], flags=cv2.INTER_LINEAR)\n",
    "    img_rotated = cv2.cvtColor(img_rotated,cv2.COLOR_GRAY2RGB)\n",
    "    result = cv2.addWeighted(modified_ref,0.7,img_rotated,0.3,0)\n",
    "    return result\n",
    "\n",
    "\n",
    "result =Affine_Transform(cereal)\n",
    "show(result, \"overlaid Affine\")"
   ]
  },
  {
   "cell_type": "code",
   "execution_count": 55,
   "metadata": {},
   "outputs": [],
   "source": [
    "#1.2 Perspective Transform \n",
    "ref = cv2.imread(\"cereal.jpg\")\n",
    "\n",
    "cereal_l = cv2.imread(\"cereal_l.jpg\",0)\n",
    "cereal_r =cv2.imread(\"cereal_r.jpg\",0)\n",
    "cereal_tl =cv2.imread(\"cereal_tl.jpg\",0)\n",
    "show(perspective, \"input Image for perspective\")\n",
    "show(ref, \"referance Image\")\n",
    "\n",
    "\n"
   ]
  },
  {
   "cell_type": "code",
   "execution_count": 57,
   "metadata": {},
   "outputs": [
    {
     "name": "stdout",
     "output_type": "stream",
     "text": [
      "(1104, 828, 3)\n",
      "(1104, 828, 3)\n",
      "(1104, 828, 3)\n",
      "(1104, 828, 3)\n",
      "(1104, 828, 3)\n",
      "(1104, 828, 3)\n"
     ]
    }
   ],
   "source": [
    "def perspective_Transform(ref_image, pers_image):\n",
    "    \n",
    "    \n",
    "    kp1, kp2, des1, des2, lowe_matches = lowes(ref_image, pers_image)\n",
    "\n",
    "    ref_pts = np.float32([kp1[m.queryIdx].pt for m in lowe_matches]).reshape(-1, 1, 2)\n",
    "\n",
    "    img_pts = np.float32([kp2[m.trainIdx].pt for m in lowe_matches]).reshape(-1, 1, 2)\n",
    "\n",
    "\n",
    "    M, _ = cv2.findHomography(ref_pts, img_pts, cv2.RANSAC, 5.0)\n",
    "    \n",
    "    img_size= (pers_image.shape[1],pers_image.shape[0])\n",
    "    \n",
    "\n",
    "    #original first is image, second is matrix ,3 is the size of the matrix\n",
    "    modified_ref = cv2.warpPerspective(ref_image, M, img_size)\n",
    "\n",
    "\n",
    "    test_color = cv2.cvtColor(pers_image,cv2.COLOR_GRAY2RGB)\n",
    "    \n",
    "    result = cv2.addWeighted(modified_ref,0.5,test_color,0.3,0)\n",
    "\n",
    "    show(result)\n",
    "    \n",
    "    \n",
    "perspective_Transform(ref,cereal_l)\n",
    "perspective_Transform(ref,cereal_r)\n",
    "\n",
    "perspective_Transform(ref,cereal_tl)"
   ]
  },
  {
   "cell_type": "code",
   "execution_count": null,
   "metadata": {},
   "outputs": [],
   "source": []
  },
  {
   "cell_type": "code",
   "execution_count": null,
   "metadata": {},
   "outputs": [],
   "source": []
  }
 ],
 "metadata": {
  "kernelspec": {
   "display_name": "Python 3",
   "language": "python",
   "name": "python3"
  },
  "language_info": {
   "codemirror_mode": {
    "name": "ipython",
    "version": 3
   },
   "file_extension": ".py",
   "mimetype": "text/x-python",
   "name": "python",
   "nbconvert_exporter": "python",
   "pygments_lexer": "ipython3",
   "version": "3.8.3"
  }
 },
 "nbformat": 4,
 "nbformat_minor": 4
}
