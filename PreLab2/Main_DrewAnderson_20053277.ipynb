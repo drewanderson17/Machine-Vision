{
 "cells": [
  {
   "cell_type": "markdown",
   "metadata": {},
   "source": [
    "## Drew Andersoon 20053277 PreLab2"
   ]
  },
  {
   "cell_type": "markdown",
   "metadata": {},
   "source": [
    "The Complexity of this Code is not very good, so it might be a bit slow and freeze at some time\n",
    "the Default Threshold is one\n",
    "The neighborhood Connecctivity used is 4-connected\n",
    "The Homogenity criterion is if the pixel RGB colours are within the seedpixels RGB channels by the Thresholds. Ex. if seedpixel red channel is 50, the current point is 20 and the threshold is 30, then the current pixel meets the criteria.This is done for all channels \n",
    "****To Test the second image change inside of cv2.imread('baboon.png') to cv2.imread('queens.jpg')\n",
    "*** The Threshold for the Homogeneity criteria is originally set to 0, move it to 50 to see proper implementation of the fill function"
   ]
  },
  {
   "cell_type": "code",
   "execution_count": 1,
   "metadata": {},
   "outputs": [],
   "source": [
    "\n",
    "import cv2\n",
    "import numpy as np\n",
    "import matplotlib.pyplot as plt\n",
    "\n",
    "import sys\n",
    "\n",
    "x = 272144 #max number of recursions image length*width\n",
    "sys.setrecursionlimit(x)\n",
    "\n",
    "img = cv2.imread('baboon.png') #changes inside to 'queens.jpg'\n",
    "            \n",
    "x = y = r = g = b = 0\n",
    "events = [i for i in dir(cv2) if 'EVENT' in i]\n",
    "\n",
    "color = [255, 0, 0]\n",
    "seed_x, seed_y = 0, 0\n",
    "threshold = 0"
   ]
  },
  {
   "cell_type": "code",
   "execution_count": 2,
   "metadata": {},
   "outputs": [],
   "source": [
    "def onMouse(event, _x, _y, flags, param):\n",
    "    global x, y, g, b, r, img, seed_x, seed_y\n",
    "    if event == cv2.EVENT_LBUTTONDOWN:\n",
    "     \n",
    "\n",
    "        blue, green, red = img[_y, _x] #colors of seed pixel\n",
    "\n",
    "        seed_x, seed_y = _x, _y\n",
    "        start = [_x, _y]\n",
    "\n",
    "       \n",
    "        fill(img, start, green, blue, red)\n",
    "        cv2.imshow(\"baboon\", img)\n",
    "\n",
    "\n",
    "def callback(var):\n",
    "    global threshold\n",
    "    threshold = cv2.getTrackbarPos(\"Threshold\", \"baboon\")"
   ]
  },
  {
   "cell_type": "code",
   "execution_count": 3,
   "metadata": {},
   "outputs": [],
   "source": [
    "def fill(image, seed_pixels, green, blue, red, ):\n",
    "\n",
    "    xsize, ysize, channels = image.shape\n",
    "    orig_value = image[seed_pixels[0], seed_pixels[1]]\n",
    "\n",
    "    stack = set(((seed_pixels[0], seed_pixels[1]),))\n",
    "\n",
    "    while stack:\n",
    "        visited_points = []\n",
    "        x, y = stack.pop()\n",
    "        b1, g1, r1 = image[y, x]\n",
    "        current_pixel = [y, x]\n",
    "\n",
    "        visited_points.append(current_pixel)\n",
    "\n",
    "        if (green - threshold <= g1 <= green + threshold) and (blue - threshold <= b1 <= blue + threshold) and (\n",
    "                red - threshold <= r1 <= red + threshold):\n",
    "\n",
    "            image[y, x] = color\n",
    "            if x > 0 and ([y, x-1] not in visited_points):\n",
    "                stack.add((x - 1, y))\n",
    "            if x < (xsize - 1) and ([y, x+1] not in visited_points):\n",
    "                stack.add((x + 1, y))\n",
    "            if y > 0 and ([y-1, x] not in visited_points):\n",
    "                stack.add((x, y - 1))\n",
    "            if y < (ysize - 1) and ([y-1, x] not in visited_points):\n",
    "                stack.add((x, y + 1))\n",
    "\n",
    "\n",
    "cv2.namedWindow(\"baboon\")\n",
    "cv2.setMouseCallback(\"baboon\", onMouse)\n",
    "\n",
    "cv2.imshow(\"baboon\", img)\n",
    "cv2.createTrackbar(\"Threshold\", \"baboon\", 0, 255, callback)\n",
    "key = cv2.waitKey(0)\n",
    "cv2.destroyAllWindows()"
   ]
  },
  {
   "cell_type": "code",
   "execution_count": null,
   "metadata": {},
   "outputs": [],
   "source": []
  },
  {
   "cell_type": "code",
   "execution_count": null,
   "metadata": {},
   "outputs": [],
   "source": []
  },
  {
   "cell_type": "code",
   "execution_count": null,
   "metadata": {},
   "outputs": [],
   "source": []
  }
 ],
 "metadata": {
  "kernelspec": {
   "display_name": "Python 3",
   "language": "python",
   "name": "python3"
  },
  "language_info": {
   "codemirror_mode": {
    "name": "ipython",
    "version": 3
   },
   "file_extension": ".py",
   "mimetype": "text/x-python",
   "name": "python",
   "nbconvert_exporter": "python",
   "pygments_lexer": "ipython3",
   "version": "3.8.3"
  }
 },
 "nbformat": 4,
 "nbformat_minor": 4
}
