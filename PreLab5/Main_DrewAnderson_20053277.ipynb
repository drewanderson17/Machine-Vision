{
 "cells": [
  {
   "cell_type": "code",
   "execution_count": 1,
   "metadata": {},
   "outputs": [],
   "source": [
    "import cv2\n",
    "import numpy as np\n",
    "\n",
    "\n",
    "\n",
    "def showImage(Img, window_name='image'):\n",
    "    cv2.imshow(window_name, Img)\n",
    "    cv2.waitKey(0)\n",
    "    cv2.destroyAllWindows()\n",
    "\n",
    "    \n",
    "comp_left = cv2.imread(\"computers_left.png\")\n",
    "comp_right = cv2.imread(\"computers_right.png\")\n",
    "\n",
    "punk_left = cv2.imread(\"daft_punk_left.jpg\")\n",
    "punk_right = cv2.imread(\"daft_punk_right.jpg\")    \n"
   ]
  },
  {
   "cell_type": "code",
   "execution_count": 17,
   "metadata": {},
   "outputs": [],
   "source": [
    "#1.1 Feature Matching\n",
    "\n",
    "\n",
    "def feature_matching(img1, img2):\n",
    "    sift = cv2.SIFT_create()\n",
    "\n",
    "    kp1, des1 = sift.detectAndCompute(img1, None)\n",
    "    kp2, des2 = sift.detectAndCompute(img2, None)\n",
    "\n",
    "    bf = cv2.BFMatcher(2)\n",
    "    matches = bf.knnMatch(des1, des2, k=2)\n",
    "\n",
    "    left_points = []\n",
    "    right_points = []\n",
    "    left_points_pt = []\n",
    "    right_points_pt = []\n",
    "\n",
    "    listA = []\n",
    "    for m, n in matches:\n",
    "\n",
    "        if m.distance < 0.8 * n.distance:  # ratio test\n",
    "            left_points.append(kp1[m.queryIdx])\n",
    "            right_points.append(kp2[m.trainIdx])\n",
    "            left_points_pt.append(kp1[m.queryIdx].pt)\n",
    "            right_points_pt.append(kp2[m.trainIdx].pt)\n",
    "            listA.append(m)\n",
    "    left_points_pt = np.int32(left_points_pt)\n",
    "    right_points_pt = np.int32(right_points_pt)\n",
    "    return left_points, right_points, left_points_pt, right_points_pt\n"
   ]
  },
  {
   "cell_type": "code",
   "execution_count": 18,
   "metadata": {},
   "outputs": [],
   "source": [
    "#1.1 Feature matching of left and right computer Display output\n",
    "\n",
    "left_points, right_points, left_points_pt, right_points_pt = feature_matching(comp_left, comp_right)\n",
    "\n",
    "left_img = cv2.drawKeypoints(comp_left, left_points, None)\n",
    "right_img = cv2.drawKeypoints(comp_right, right_points, None)\n",
    "showImage(left_img, \"left Key points\")\n",
    "showImage(right_img, \"right Key points\")\n"
   ]
  },
  {
   "cell_type": "code",
   "execution_count": 14,
   "metadata": {},
   "outputs": [],
   "source": [
    "#1.2 Epipolar line Calculation\n",
    "# how to get the featured edges to show better\n",
    "\n",
    "\n",
    "def drawlines(img1, img2, lines, pts1, pts2):\n",
    "    ''' img1 - image on which we draw the epilines for the points in img2\n",
    "        lines - corresponding epilines '''\n",
    "    r, c, _ = img1.shape\n",
    "    # img1 = cv2.cvtColor(img1, cv2.COLOR_GRAY2BGR)\n",
    "    # img2 = cv2.cvtColor(img2, cv2.COLOR_GRAY2BGR)\n",
    "    for r, pt1, pt2 in zip(lines, pts1, pts2):\n",
    "        color = tuple(np.random.randint(0, 255, 3).tolist())\n",
    "        x0, y0 = map(int, [0, -r[2] / r[1]])\n",
    "        x1, y1 = map(int, [c, -(r[2] + r[0] * c) / r[1]])\n",
    "        img1 = cv2.line(img1, (x0, y0), (x1, y1), color, 1)\n",
    "        # img1 = cv2.circle(img1, tuple(pt1), 5, color, -1)\n",
    "    # img2 = cv2.circle(img2, tuple(pt2), 5, color, -1)\n",
    "    return img1, img2\n",
    "\n",
    "\n"
   ]
  },
  {
   "cell_type": "code",
   "execution_count": 15,
   "metadata": {},
   "outputs": [],
   "source": [
    "#Epipolar Lines Calculation for computer \n",
    "left_points, right_points, left_points_pt, right_points_pt = feature_matching(comp_left, comp_right)\n",
    "m, _ = cv2.findFundamentalMat(left_points_pt, right_points_pt, cv2.RANSAC, 5)\n",
    "\n",
    "lines1 = cv2.computeCorrespondEpilines(left_points_pt.reshape(-1, 1, 2), 2, m)\n",
    "lines1 = lines1.reshape(-1, 3)\n",
    "\n",
    "lines2 = cv2.computeCorrespondEpilines(right_points_pt.reshape(-1, 1, 2), 2, m)\n",
    "lines2 = lines2.reshape(-1, 3)\n",
    "\n",
    "\n",
    "img5, img6 = drawlines(left_img, right_img, lines1, left_points_pt, right_points_pt)\n",
    "img3, img4 = drawlines(left_img, right_img, lines2, left_points_pt, right_points_pt)\n",
    "\n",
    "numpy_horizontal = np.hstack((img5, img3))\n",
    "numpy_horizontal_concat = np.concatenate((img5, img3), axis=1)\n",
    "# result = cv2.hconcat(img5,img3)\n",
    "showImage(numpy_horizontal_concat)"
   ]
  },
  {
   "cell_type": "code",
   "execution_count": 16,
   "metadata": {},
   "outputs": [],
   "source": [
    "#epipolar lines for daft punk\n",
    "\n",
    "left_points, right_points, left_points_pt, right_points_pt = feature_matching(punk_left, punk_right)\n",
    "\n",
    "left_img = cv2.drawKeypoints(punk_left, left_points, None)\n",
    "right_img = cv2.drawKeypoints(punk_right, right_points, None)\n",
    "\n",
    "m, _ = cv2.findFundamentalMat(left_points_pt, right_points_pt, cv2.RANSAC, 5)\n",
    "\n",
    "lines1 = cv2.computeCorrespondEpilines(right_points_pt.reshape(-1, 1, 2), 2, m)\n",
    "lines1 = lines1.reshape(-1, 3)\n",
    "\n",
    "lines2 = cv2.computeCorrespondEpilines(left_points_pt.reshape(-1, 1, 2), 1, m)\n",
    "lines2 = lines2.reshape(-1, 3)\n",
    "\n",
    "\n",
    "img5, img6 = drawlines(left_img, right_img, lines1, left_points_pt, right_points_pt)\n",
    "img3, img4 = drawlines(right_img, left_img, lines2, right_points_pt, left_points_pt)\n",
    "\n",
    "numpy_horizontal = np.hstack((img5, img3))\n",
    "numpy_horizontal_concat = np.concatenate((img5, img3), axis=1)\n",
    "\n",
    "showImage(numpy_horizontal_concat)"
   ]
  },
  {
   "cell_type": "code",
   "execution_count": 7,
   "metadata": {},
   "outputs": [],
   "source": [
    "#1.3 implement an interface that al"
   ]
  }
 ],
 "metadata": {
  "kernelspec": {
   "display_name": "Python 3",
   "language": "python",
   "name": "python3"
  },
  "language_info": {
   "codemirror_mode": {
    "name": "ipython",
    "version": 3
   },
   "file_extension": ".py",
   "mimetype": "text/x-python",
   "name": "python",
   "nbconvert_exporter": "python",
   "pygments_lexer": "ipython3",
   "version": "3.8.3"
  }
 },
 "nbformat": 4,
 "nbformat_minor": 4
}
